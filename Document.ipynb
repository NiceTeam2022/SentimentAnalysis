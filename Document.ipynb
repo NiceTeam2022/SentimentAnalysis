{
 "cells": [
  {
   "cell_type": "markdown",
   "metadata": {},
   "source": [
    "## Documentation"
   ]
  },
  {
   "cell_type": "markdown",
   "metadata": {},
   "source": [
    "### Emotion类"
   ]
  },
  {
   "cell_type": "code",
   "execution_count": 1,
   "metadata": {},
   "outputs": [],
   "source": [
    "from Emotions import Emotion"
   ]
  },
  {
   "cell_type": "markdown",
   "metadata": {},
   "source": [
    "初始化一个Emotion类"
   ]
  },
  {
   "cell_type": "code",
   "execution_count": 2,
   "metadata": {},
   "outputs": [],
   "source": [
    "emo = Emotion()"
   ]
  },
  {
   "cell_type": "markdown",
   "metadata": {},
   "source": [
    "准备一段文本，如下"
   ]
  },
  {
   "cell_type": "code",
   "execution_count": 3,
   "metadata": {},
   "outputs": [],
   "source": [
    "text = '''\n",
    "原著的确更吸引编剧读下去，所以跟《诛仙》系列明显感觉到编剧只看过故事大纲比，这个剧的编剧\n",
    "完整阅读过小说。配乐活泼俏皮，除了强硬穿越的台词轻微尴尬，最应该尴尬的感情戏反而入戏，故意\n",
    "模糊了陈萍萍的太监身份、太子跟长公主的暧昧关系，整体观影感受极好，很期待第二季拍大东山之\n",
    "役。玩弄人心的阴谋阳谋都不狗血，架空的设定能摆脱历史背景，服装道具能有更自由的发挥空间，特\n",
    "别喜欢庆帝的闺房。以后还是少看国产剧，太长了，还是精短美剧更适合休闲，追这个太累。王启年真\n",
    "是太可爱了。\n",
    "'''"
   ]
  },
  {
   "cell_type": "markdown",
   "metadata": {},
   "source": [
    "使用fit()分析该段文本情感，输入参数为一段字符串"
   ]
  },
  {
   "cell_type": "code",
   "execution_count": 4,
   "metadata": {},
   "outputs": [
    {
     "name": "stderr",
     "output_type": "stream",
     "text": [
      "Building prefix dict from the default dictionary ...\n",
      "Loading model from cache D:\\temp\\jieba.cache\n",
      "Loading model cost 0.364 seconds.\n",
      "Prefix dict has been built successfully.\n"
     ]
    }
   ],
   "source": [
    "emo.fit(text)"
   ]
  },
  {
   "cell_type": "markdown",
   "metadata": {},
   "source": [
    "使用getTopScore()获得得分最高的几个情感，参数length表示需要多少个情感，默认为5"
   ]
  },
  {
   "cell_type": "code",
   "execution_count": 5,
   "metadata": {},
   "outputs": [
    {
     "data": {
      "text/plain": [
       "[['PH', 1.8333333333333333],\n",
       " ['PB', 1.0833333333333333],\n",
       " ['ND', 0.8333333333333334],\n",
       " ['Good', 0.5333333333333333],\n",
       " ['PE', 0.4166666666666667],\n",
       " ['PG', 0.4166666666666667],\n",
       " ['Happy', 0.20833333333333334],\n",
       " ['Disgust', 0.18333333333333332],\n",
       " ['NN', 0.08333333333333333]]"
      ]
     },
     "execution_count": 5,
     "metadata": {},
     "output_type": "execute_result"
    }
   ],
   "source": [
    "emo.getTopScore(length = 10)"
   ]
  },
  {
   "cell_type": "markdown",
   "metadata": {},
   "source": [
    "使用getObjectiveness()获得得分最高的几个情感的客观程度，0表示不客观，1表示客观  \n",
    "输入参数：  \n",
    "length 如上  \n",
    "option 表示客观性判断阈值，有三个选项：\"weak\"/\"medium\"/\"strong\"，分别对应阈值：0.5/0.75/1"
   ]
  },
  {
   "cell_type": "code",
   "execution_count": 6,
   "metadata": {},
   "outputs": [
    {
     "data": {
      "text/plain": [
       "[['PH', 0],\n",
       " ['PB', 0],\n",
       " ['ND', 0],\n",
       " ['Good', 1],\n",
       " ['PE', 1],\n",
       " ['PG', 1],\n",
       " ['Happy', 1],\n",
       " ['Disgust', 1],\n",
       " ['NN', 1]]"
      ]
     },
     "execution_count": 6,
     "metadata": {},
     "output_type": "execute_result"
    }
   ],
   "source": [
    "emo.getObjectiveness(length=10,option='medium')"
   ]
  },
  {
   "cell_type": "markdown",
   "metadata": {},
   "source": [
    "使用getPicture()得到得分最高的几个情感对应的图片，输入参数如上"
   ]
  },
  {
   "cell_type": "code",
   "execution_count": 7,
   "metadata": {},
   "outputs": [
    {
     "data": {
      "text/plain": [
       "['./rsc/emoji/good-PH-10.png',\n",
       " './rsc/emoji/good-PB-10.png',\n",
       " './rsc/emoji/disgust-ND-10.png',\n",
       " './rsc/emoji/None-Good-5.png',\n",
       " './rsc/emoji/happy-PE-5.png',\n",
       " './rsc/emoji/good-PG-5.png',\n",
       " './rsc/emoji/None-Happy-5.png',\n",
       " './rsc/emoji/None-Disgust-5.png',\n",
       " './rsc/emoji/disgust-NN-5.png']"
      ]
     },
     "execution_count": 7,
     "metadata": {},
     "output_type": "execute_result"
    }
   ],
   "source": [
    "emo.getPicture(length=10)"
   ]
  },
  {
   "cell_type": "markdown",
   "metadata": {},
   "source": [
    "使用getWords()得到情感程度最高的几个单词，输入参数如上"
   ]
  },
  {
   "cell_type": "code",
   "execution_count": 8,
   "metadata": {},
   "outputs": [
    {
     "data": {
      "text/plain": [
       "['极好', '俏皮', '活泼', '可爱', '人心', '摆脱', '喜欢', '模糊', '强硬', '尴尬']"
      ]
     },
     "execution_count": 8,
     "metadata": {},
     "output_type": "execute_result"
    }
   ],
   "source": [
    "emo.getWords(length=10)"
   ]
  },
  {
   "cell_type": "code",
   "execution_count": null,
   "metadata": {},
   "outputs": [],
   "source": []
  }
 ],
 "metadata": {
  "kernelspec": {
   "display_name": "Python 3.9.12 ('base')",
   "language": "python",
   "name": "python3"
  },
  "language_info": {
   "codemirror_mode": {
    "name": "ipython",
    "version": 3
   },
   "file_extension": ".py",
   "mimetype": "text/x-python",
   "name": "python",
   "nbconvert_exporter": "python",
   "pygments_lexer": "ipython3",
   "version": "3.9.12"
  },
  "orig_nbformat": 4,
  "vscode": {
   "interpreter": {
    "hash": "5179d32cf6ec497baf3f8a3ef987cc77c5d2dc691fdde20a56316522f61a7323"
   }
  }
 },
 "nbformat": 4,
 "nbformat_minor": 2
}
