{
 "cells": [
  {
   "cell_type": "markdown",
   "metadata": {},
   "source": [
    "## Documentation"
   ]
  },
  {
   "cell_type": "markdown",
   "metadata": {},
   "source": [
    "使用等等NLP(DDNLP)来分析文本吧！"
   ]
  },
  {
   "cell_type": "markdown",
   "metadata": {},
   "source": [
    "1. 引入DDNLP类"
   ]
  },
  {
   "cell_type": "code",
   "execution_count": 1,
   "metadata": {},
   "outputs": [],
   "source": [
    "from ddnlp import DDNLP"
   ]
  },
  {
   "cell_type": "markdown",
   "metadata": {},
   "source": [
    "准备一段文本，如下"
   ]
  },
  {
   "cell_type": "code",
   "execution_count": 2,
   "metadata": {},
   "outputs": [],
   "source": [
    "text = '''\n",
    "原著的确更吸引编剧读下去，所以跟《诛仙》系列明显感觉到编剧只看过故事大纲比，这个剧的编剧\n",
    "完整阅读过小说。配乐活泼俏皮，除了强硬穿越的台词轻微尴尬，最应该尴尬的感情戏反而入戏，故意\n",
    "模糊了陈萍萍的太监身份、太子跟长公主的暧昧关系，整体观影感受极好，很期待第二季拍大东山之\n",
    "役。玩弄人心的阴谋阳谋都不狗血，架空的设定能摆脱历史背景，服装道具能有更自由的发挥空间，特\n",
    "别喜欢庆帝的闺房。以后还是少看国产剧，太长了，还是精短美剧更适合休闲，追这个太累。王启年真\n",
    "是太可爱了。\n",
    "'''"
   ]
  },
  {
   "cell_type": "markdown",
   "metadata": {},
   "source": [
    "根据使用场景status和一段文本来初始化一个DDNLP类,status = 0/1/2分别表示公司/学校/其他"
   ]
  },
  {
   "cell_type": "code",
   "execution_count": 3,
   "metadata": {},
   "outputs": [
    {
     "name": "stderr",
     "output_type": "stream",
     "text": [
      "Building prefix dict from the default dictionary ...\n",
      "Loading model from cache D:\\temp\\jieba.cache\n",
      "Loading model cost 0.390 seconds.\n",
      "Prefix dict has been built successfully.\n"
     ]
    }
   ],
   "source": [
    "dd = DDNLP(text,status=0)"
   ]
  },
  {
   "cell_type": "markdown",
   "metadata": {},
   "source": [
    "使用getTopScore()得到得分最高的几个情感, length参数可选择需要的情感数量, 默认为5"
   ]
  },
  {
   "cell_type": "code",
   "execution_count": 4,
   "metadata": {},
   "outputs": [
    {
     "data": {
      "text/plain": [
       "[['PH', 1.8333333333333333],\n",
       " ['PB', 1.0833333333333333],\n",
       " ['ND', 0.8333333333333334],\n",
       " ['Good', 0.5333333333333333],\n",
       " ['PE', 0.4166666666666667],\n",
       " ['PG', 0.4166666666666667],\n",
       " ['Happy', 0.20833333333333334],\n",
       " ['Disgust', 0.18333333333333332],\n",
       " ['NN', 0.08333333333333333]]"
      ]
     },
     "execution_count": 4,
     "metadata": {},
     "output_type": "execute_result"
    }
   ],
   "source": [
    "dd.getTopScore(length=10)"
   ]
  },
  {
   "cell_type": "markdown",
   "metadata": {},
   "source": [
    "使用getObjectiveness()获得得分最高的几个情感的客观程度，0表示不客观，1表示客观  \n",
    "输入参数：  \n",
    "length 如上  \n",
    "option 表示客观性判断阈值，有三个选项：\"weak\"/\"medium\"/\"strong\"，分别对应阈值：0.5/0.75/1"
   ]
  },
  {
   "cell_type": "code",
   "execution_count": 5,
   "metadata": {},
   "outputs": [
    {
     "data": {
      "text/plain": [
       "[['PH', 0],\n",
       " ['PB', 0],\n",
       " ['ND', 0],\n",
       " ['Good', 0],\n",
       " ['PE', 1],\n",
       " ['PG', 1],\n",
       " ['Happy', 1],\n",
       " ['Disgust', 1],\n",
       " ['NN', 1]]"
      ]
     },
     "execution_count": 5,
     "metadata": {},
     "output_type": "execute_result"
    }
   ],
   "source": [
    "dd.getObjectiveness(length=10)"
   ]
  },
  {
   "cell_type": "markdown",
   "metadata": {},
   "source": [
    "使用getPicture()得到得分最高的几个情感对应的图片，输入参数如上"
   ]
  },
  {
   "cell_type": "code",
   "execution_count": 6,
   "metadata": {},
   "outputs": [
    {
     "data": {
      "text/plain": [
       "['./rsc/emoji/good-PH-10.png',\n",
       " './rsc/emoji/good-PB-10.png',\n",
       " './rsc/emoji/disgust-ND-10.png',\n",
       " './rsc/emoji/None-Good-5.png',\n",
       " './rsc/emoji/happy-PE-5.png',\n",
       " './rsc/emoji/good-PG-5.png',\n",
       " './rsc/emoji/None-Happy-5.png',\n",
       " './rsc/emoji/None-Disgust-5.png',\n",
       " './rsc/emoji/disgust-NN-5.png']"
      ]
     },
     "execution_count": 6,
     "metadata": {},
     "output_type": "execute_result"
    }
   ],
   "source": [
    "dd.getPicture(length=10)"
   ]
  },
  {
   "cell_type": "markdown",
   "metadata": {},
   "source": [
    "使用getWords()得到情感强度强烈的部分单词  \n",
    "筛选规则：  \n",
    "1. 强度不低于5；\n",
    "2. 在所有情感词中，强度排前10%。"
   ]
  },
  {
   "cell_type": "code",
   "execution_count": 7,
   "metadata": {},
   "outputs": [
    {
     "data": {
      "text/plain": [
       "['极好', '阴谋']"
      ]
     },
     "execution_count": 7,
     "metadata": {},
     "output_type": "execute_result"
    }
   ],
   "source": [
    "dd.getWords()"
   ]
  },
  {
   "cell_type": "markdown",
   "metadata": {},
   "source": [
    "使用getAverageLen()得到平均句长"
   ]
  },
  {
   "cell_type": "code",
   "execution_count": 8,
   "metadata": {},
   "outputs": [
    {
     "data": {
      "text/plain": [
       "9.8"
      ]
     },
     "execution_count": 8,
     "metadata": {},
     "output_type": "execute_result"
    }
   ],
   "source": [
    "dd.getAverageLen()"
   ]
  },
  {
   "cell_type": "markdown",
   "metadata": {},
   "source": [
    "使用getLongSent()得到长句子"
   ]
  },
  {
   "cell_type": "code",
   "execution_count": 9,
   "metadata": {},
   "outputs": [
    {
     "data": {
      "text/plain": [
       "[]"
      ]
     },
     "execution_count": 9,
     "metadata": {},
     "output_type": "execute_result"
    }
   ],
   "source": [
    "dd.getLongSent()"
   ]
  },
  {
   "cell_type": "markdown",
   "metadata": {},
   "source": [
    "使用getDensity()得到信息密度"
   ]
  },
  {
   "cell_type": "code",
   "execution_count": 10,
   "metadata": {},
   "outputs": [
    {
     "data": {
      "text/plain": [
       "1.0"
      ]
     },
     "execution_count": 10,
     "metadata": {},
     "output_type": "execute_result"
    }
   ],
   "source": [
    "dd.getDensity()"
   ]
  },
  {
   "cell_type": "markdown",
   "metadata": {},
   "source": [
    "整一段完整的分析，以一段《绿皮书》的影评为例"
   ]
  },
  {
   "cell_type": "markdown",
   "metadata": {},
   "source": [
    "肤色对调版《触不可及》，一场跨越美国的公路之旅，更是一场跨越种族与肤色、身份与阶层的人性之旅。 所有下属都对唐毕恭毕敬，唯有托尼把他当普通人对待，给他吃炸鸡、对他说出真实想法。 不把他当成黑人，才是真正不歧视他的表现。 另一方面，唐又受到外人的歧视和侮辱，他始终忍气吞声，低声下气。 听他演奏的观众可以在餐厅吃饭，而他作为表演者却不可以。 正是托尼教会他反击，教会他为自己发声、捍卫自己的权利和尊严。 在所谓“高级的、尊贵的”场所受到不平等待遇，反而在“低端的、卑微的”黑人酒吧获得尊重和支持，实在太讽刺。 天才是不够的，唯有勇气才能改变人心。既然他都不考虑你的感受，你又何必照顾他的情绪呢？ 忍一时得寸进尺，退一步变本加厉。暴力不能让你赢得什么，但懦弱永远都是输家。 正面对抗生活的恶意，才能战胜恶意。"
   ]
  },
  {
   "cell_type": "code",
   "execution_count": 35,
   "metadata": {},
   "outputs": [],
   "source": [
    "text ='肤色对调版《触不可及》，一场跨越美国的公路之旅，更是一场跨越种族与肤色、身份与阶层的人性之旅。 所有下属都对唐毕恭毕敬，唯有托尼把他当普通人对待，给他吃炸鸡、对他说出真实想法。 不把他当成黑人，才是真正不歧视他的表现。 另一方面，唐又受到外人的歧视和侮辱，他始终忍气吞声，低声下气。 听他演奏的观众可以在餐厅吃饭，而他作为表演者却不可以。 正是托尼教会他反击，教会他为自己发声、捍卫自己的权利和尊严。 在所谓“高级的、尊贵的”场所受到不平等待遇，反而在“低端的、卑微的”黑人酒吧获得尊重和支持，实在太讽刺。 天才是不够的，唯有勇气才能改变人心。既然他都不考虑你的感受，你又何必照顾他的情绪呢？ 忍一时得寸进尺，退一步变本加厉。暴力不能让你赢得什么，但懦弱永远都是输家。 正面对抗生活的恶意，才能战胜恶意。'"
   ]
  },
  {
   "cell_type": "code",
   "execution_count": 36,
   "metadata": {},
   "outputs": [],
   "source": [
    "dd = DDNLP(text,status=2)"
   ]
  },
  {
   "cell_type": "code",
   "execution_count": 37,
   "metadata": {},
   "outputs": [
    {
     "data": {
      "text/plain": [
       "[['PH', 1.8], ['NN', 1.0], ['PG', 0.6], ['Good', 0.54], ['PD', 0.5]]"
      ]
     },
     "execution_count": 37,
     "metadata": {},
     "output_type": "execute_result"
    }
   ],
   "source": [
    "dd.getTopScore()"
   ]
  },
  {
   "cell_type": "markdown",
   "metadata": {},
   "source": [
    "PH表示赞扬，NN为贬责，PG为相信，该评论为5星好评"
   ]
  },
  {
   "cell_type": "code",
   "execution_count": 38,
   "metadata": {},
   "outputs": [
    {
     "data": {
      "text/plain": [
       "[['PH', 0], ['NN', 0], ['PG', 0], ['Good', 0], ['PD', 0]]"
      ]
     },
     "execution_count": 38,
     "metadata": {},
     "output_type": "execute_result"
    }
   ],
   "source": [
    "dd.getObjectiveness()"
   ]
  },
  {
   "cell_type": "code",
   "execution_count": 39,
   "metadata": {},
   "outputs": [
    {
     "data": {
      "text/plain": [
       "['天才', '恶意', '赢得', '尊贵']"
      ]
     },
     "execution_count": 39,
     "metadata": {},
     "output_type": "execute_result"
    }
   ],
   "source": [
    "dd.getWords()"
   ]
  },
  {
   "cell_type": "code",
   "execution_count": 40,
   "metadata": {},
   "outputs": [
    {
     "data": {
      "text/plain": [
       "25.25"
      ]
     },
     "execution_count": 40,
     "metadata": {},
     "output_type": "execute_result"
    }
   ],
   "source": [
    "dd.getAverageLen()"
   ]
  },
  {
   "cell_type": "code",
   "execution_count": 41,
   "metadata": {},
   "outputs": [
    {
     "data": {
      "text/plain": [
       "[]"
      ]
     },
     "execution_count": 41,
     "metadata": {},
     "output_type": "execute_result"
    }
   ],
   "source": [
    "dd.getLongSent()"
   ]
  },
  {
   "cell_type": "code",
   "execution_count": 42,
   "metadata": {},
   "outputs": [
    {
     "data": {
      "text/plain": [
       "1.0"
      ]
     },
     "execution_count": 42,
     "metadata": {},
     "output_type": "execute_result"
    }
   ],
   "source": [
    "dd.getDensity()"
   ]
  },
  {
   "cell_type": "code",
   "execution_count": null,
   "metadata": {},
   "outputs": [],
   "source": []
  }
 ],
 "metadata": {
  "kernelspec": {
   "display_name": "Python 3.9.12 ('base')",
   "language": "python",
   "name": "python3"
  },
  "language_info": {
   "codemirror_mode": {
    "name": "ipython",
    "version": 3
   },
   "file_extension": ".py",
   "mimetype": "text/x-python",
   "name": "python",
   "nbconvert_exporter": "python",
   "pygments_lexer": "ipython3",
   "version": "3.9.12"
  },
  "orig_nbformat": 4,
  "vscode": {
   "interpreter": {
    "hash": "5179d32cf6ec497baf3f8a3ef987cc77c5d2dc691fdde20a56316522f61a7323"
   }
  }
 },
 "nbformat": 4,
 "nbformat_minor": 2
}
